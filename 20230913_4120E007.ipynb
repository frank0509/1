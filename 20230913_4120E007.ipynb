{
  "nbformat": 4,
  "nbformat_minor": 0,
  "metadata": {
    "colab": {
      "provenance": []
    },
    "kernelspec": {
      "name": "python3",
      "display_name": "Python 3"
    },
    "language_info": {
      "name": "python"
    }
  },
  "cells": [
    {
      "cell_type": "code",
      "execution_count": 2,
      "metadata": {
        "colab": {
          "base_uri": "https://localhost:8080/"
        },
        "id": "wqQ_jxyaj9Om",
        "outputId": "9b94a802-8d82-4f50-9c3b-f62d4d7c8c1a"
      },
      "outputs": [
        {
          "output_type": "execute_result",
          "data": {
            "text/plain": [
              "47052721287394587764057094854672253553918218437190874778408030747195017485692977810906266281547645147"
            ]
          },
          "metadata": {},
          "execution_count": 2
        }
      ],
      "source": [
        "3**211"
      ]
    }
  ]
}